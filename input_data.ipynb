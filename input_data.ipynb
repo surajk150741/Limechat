{
 "cells": [
  {
   "cell_type": "code",
   "execution_count": 1,
   "metadata": {},
   "outputs": [],
   "source": [
    "import pandas as pd"
   ]
  },
  {
   "cell_type": "code",
   "execution_count": 7,
   "metadata": {},
   "outputs": [],
   "source": [
    "df = pd.read_excel('C:/Users/suraj/OneDrive/Desktop/Personal/bhole/gen-AI/limechat/asian_paint/Sample Data.xlsx',sheet_name='Sheet1')"
   ]
  },
  {
   "cell_type": "code",
   "execution_count": 8,
   "metadata": {},
   "outputs": [
    {
     "data": {
      "text/html": [
       "<div>\n",
       "<style scoped>\n",
       "    .dataframe tbody tr th:only-of-type {\n",
       "        vertical-align: middle;\n",
       "    }\n",
       "\n",
       "    .dataframe tbody tr th {\n",
       "        vertical-align: top;\n",
       "    }\n",
       "\n",
       "    .dataframe thead th {\n",
       "        text-align: right;\n",
       "    }\n",
       "</style>\n",
       "<table border=\"1\" class=\"dataframe\">\n",
       "  <thead>\n",
       "    <tr style=\"text-align: right;\">\n",
       "      <th></th>\n",
       "      <th>Region</th>\n",
       "      <th>Pincode</th>\n",
       "      <th>Date</th>\n",
       "      <th>Skues</th>\n",
       "      <th>Demand</th>\n",
       "      <th>Inventory</th>\n",
       "      <th>Sales</th>\n",
       "    </tr>\n",
       "  </thead>\n",
       "  <tbody>\n",
       "    <tr>\n",
       "      <th>0</th>\n",
       "      <td>Region 1</td>\n",
       "      <td>123456</td>\n",
       "      <td>2024-06-04</td>\n",
       "      <td>SKU1</td>\n",
       "      <td>250000</td>\n",
       "      <td>50000</td>\n",
       "      <td>270000</td>\n",
       "    </tr>\n",
       "  </tbody>\n",
       "</table>\n",
       "</div>"
      ],
      "text/plain": [
       "     Region  Pincode       Date Skues  Demand  Inventory   Sales\n",
       "0  Region 1   123456 2024-06-04  SKU1  250000      50000  270000"
      ]
     },
     "execution_count": 8,
     "metadata": {},
     "output_type": "execute_result"
    }
   ],
   "source": [
    "df.head(1)"
   ]
  },
  {
   "cell_type": "code",
   "execution_count": 9,
   "metadata": {},
   "outputs": [
    {
     "data": {
      "text/plain": [
       "Region       0.0\n",
       "Pincode      0.0\n",
       "Date         0.0\n",
       "Skues        0.0\n",
       "Demand       0.0\n",
       "Inventory    0.0\n",
       "Sales        0.0\n",
       "dtype: float64"
      ]
     },
     "execution_count": 9,
     "metadata": {},
     "output_type": "execute_result"
    }
   ],
   "source": [
    "df.isnull().mean()"
   ]
  },
  {
   "cell_type": "code",
   "execution_count": 10,
   "metadata": {},
   "outputs": [
    {
     "name": "stdout",
     "output_type": "stream",
     "text": [
      "Region               object\n",
      "Pincode               int64\n",
      "Date         datetime64[ns]\n",
      "Skues                object\n",
      "Demand                int64\n",
      "Inventory             int64\n",
      "Sales                 int64\n",
      "dtype: object\n"
     ]
    }
   ],
   "source": [
    "print(df.dtypes)"
   ]
  },
  {
   "cell_type": "code",
   "execution_count": 14,
   "metadata": {},
   "outputs": [
    {
     "name": "stderr",
     "output_type": "stream",
     "text": [
      "C:\\Users\\suraj\\AppData\\Local\\Temp\\ipykernel_16396\\49681985.py:1: FutureWarning: Indexing with multiple keys (implicitly converted to a tuple of keys) will be deprecated, use a list instead.\n",
      "  df.groupby(['Date'])['Demand','Inventory','Sales'].sum()\n",
      "C:\\Users\\suraj\\AppData\\Local\\Temp\\ipykernel_16396\\49681985.py:2: FutureWarning: Indexing with multiple keys (implicitly converted to a tuple of keys) will be deprecated, use a list instead.\n",
      "  df.groupby(['Pincode'])['Demand','Inventory','Sales'].sum()\n"
     ]
    },
    {
     "data": {
      "text/html": [
       "<div>\n",
       "<style scoped>\n",
       "    .dataframe tbody tr th:only-of-type {\n",
       "        vertical-align: middle;\n",
       "    }\n",
       "\n",
       "    .dataframe tbody tr th {\n",
       "        vertical-align: top;\n",
       "    }\n",
       "\n",
       "    .dataframe thead th {\n",
       "        text-align: right;\n",
       "    }\n",
       "</style>\n",
       "<table border=\"1\" class=\"dataframe\">\n",
       "  <thead>\n",
       "    <tr style=\"text-align: right;\">\n",
       "      <th></th>\n",
       "      <th>Demand</th>\n",
       "      <th>Inventory</th>\n",
       "      <th>Sales</th>\n",
       "    </tr>\n",
       "    <tr>\n",
       "      <th>Pincode</th>\n",
       "      <th></th>\n",
       "      <th></th>\n",
       "      <th></th>\n",
       "    </tr>\n",
       "  </thead>\n",
       "  <tbody>\n",
       "    <tr>\n",
       "      <th>110024</th>\n",
       "      <td>11883718</td>\n",
       "      <td>2376744</td>\n",
       "      <td>9431401</td>\n",
       "    </tr>\n",
       "    <tr>\n",
       "      <th>123456</th>\n",
       "      <td>6086400</td>\n",
       "      <td>2461350</td>\n",
       "      <td>6565400</td>\n",
       "    </tr>\n",
       "    <tr>\n",
       "      <th>600092</th>\n",
       "      <td>16841458</td>\n",
       "      <td>7319642</td>\n",
       "      <td>7798493</td>\n",
       "    </tr>\n",
       "    <tr>\n",
       "      <th>620231</th>\n",
       "      <td>15021849</td>\n",
       "      <td>7195489</td>\n",
       "      <td>14131852</td>\n",
       "    </tr>\n",
       "  </tbody>\n",
       "</table>\n",
       "</div>"
      ],
      "text/plain": [
       "           Demand  Inventory     Sales\n",
       "Pincode                               \n",
       "110024   11883718    2376744   9431401\n",
       "123456    6086400    2461350   6565400\n",
       "600092   16841458    7319642   7798493\n",
       "620231   15021849    7195489  14131852"
      ]
     },
     "execution_count": 14,
     "metadata": {},
     "output_type": "execute_result"
    }
   ],
   "source": [
    "df.groupby(['Date'])['Demand','Inventory','Sales'].sum()\n",
    "df.groupby(['Pincode'])['Demand','Inventory','Sales'].sum()"
   ]
  },
  {
   "cell_type": "code",
   "execution_count": null,
   "metadata": {},
   "outputs": [],
   "source": []
  }
 ],
 "metadata": {
  "kernelspec": {
   "display_name": "Python 3",
   "language": "python",
   "name": "python3"
  },
  "language_info": {
   "codemirror_mode": {
    "name": "ipython",
    "version": 3
   },
   "file_extension": ".py",
   "mimetype": "text/x-python",
   "name": "python",
   "nbconvert_exporter": "python",
   "pygments_lexer": "ipython3",
   "version": "3.9.13"
  },
  "orig_nbformat": 4
 },
 "nbformat": 4,
 "nbformat_minor": 2
}
