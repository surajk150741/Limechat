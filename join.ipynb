{
 "cells": [
  {
   "cell_type": "code",
   "execution_count": 1,
   "metadata": {},
   "outputs": [],
   "source": [
    "import pandas as pd"
   ]
  },
  {
   "cell_type": "code",
   "execution_count": 2,
   "metadata": {},
   "outputs": [],
   "source": [
    "flow_count = pd.read_csv('C://Users//suraj//OneDrive//Desktop//Personal//bhole//limechat//flow//flow_counts.csv')\n",
    "account_info = pd.read_csv('C://Users//suraj//OneDrive//Desktop//Personal//bhole//limechat//flow//account_info.csv')"
   ]
  },
  {
   "cell_type": "code",
   "execution_count": 3,
   "metadata": {},
   "outputs": [],
   "source": [
    "flow_count.rename(columns = {'account_id':'id'}, inplace = True) "
   ]
  },
  {
   "cell_type": "code",
   "execution_count": 4,
   "metadata": {},
   "outputs": [
    {
     "data": {
      "text/html": [
       "<div>\n",
       "<style scoped>\n",
       "    .dataframe tbody tr th:only-of-type {\n",
       "        vertical-align: middle;\n",
       "    }\n",
       "\n",
       "    .dataframe tbody tr th {\n",
       "        vertical-align: top;\n",
       "    }\n",
       "\n",
       "    .dataframe thead th {\n",
       "        text-align: right;\n",
       "    }\n",
       "</style>\n",
       "<table border=\"1\" class=\"dataframe\">\n",
       "  <thead>\n",
       "    <tr style=\"text-align: right;\">\n",
       "      <th></th>\n",
       "      <th>id</th>\n",
       "      <th>is_active</th>\n",
       "      <th>created_at</th>\n",
       "      <th>company</th>\n",
       "      <th>name</th>\n",
       "      <th>hd_account_id</th>\n",
       "      <th>google_id</th>\n",
       "      <th>company_logo</th>\n",
       "      <th>ui_mode</th>\n",
       "    </tr>\n",
       "  </thead>\n",
       "  <tbody>\n",
       "    <tr>\n",
       "      <th>0</th>\n",
       "      <td>10501</td>\n",
       "      <td>True</td>\n",
       "      <td>2023-12-26T18:41:45.319745+05:30</td>\n",
       "      <td>Stark Industries</td>\n",
       "      <td>Stark Industries</td>\n",
       "      <td>27175.0</td>\n",
       "      <td>NaN</td>\n",
       "      <td>NaN</td>\n",
       "      <td>whatsapp</td>\n",
       "    </tr>\n",
       "  </tbody>\n",
       "</table>\n",
       "</div>"
      ],
      "text/plain": [
       "      id  is_active                        created_at           company  \\\n",
       "0  10501       True  2023-12-26T18:41:45.319745+05:30  Stark Industries   \n",
       "\n",
       "               name  hd_account_id google_id company_logo   ui_mode  \n",
       "0  Stark Industries        27175.0       NaN          NaN  whatsapp  "
      ]
     },
     "execution_count": 4,
     "metadata": {},
     "output_type": "execute_result"
    }
   ],
   "source": [
    "account_info.head(1)"
   ]
  },
  {
   "cell_type": "code",
   "execution_count": 13,
   "metadata": {},
   "outputs": [],
   "source": [
    "df = pd.merge(flow_count, account_info, on='id', how='left')\n",
    "dff = df[['id','company','name','Count']]"
   ]
  },
  {
   "cell_type": "code",
   "execution_count": 14,
   "metadata": {},
   "outputs": [
    {
     "name": "stderr",
     "output_type": "stream",
     "text": [
      "C:\\Users\\suraj\\AppData\\Local\\Temp\\ipykernel_356\\2150033956.py:2: SettingWithCopyWarning: \n",
      "A value is trying to be set on a copy of a slice from a DataFrame\n",
      "\n",
      "See the caveats in the documentation: https://pandas.pydata.org/pandas-docs/stable/user_guide/indexing.html#returning-a-view-versus-a-copy\n",
      "  dff.rename(columns = {'id':'account_id'}, inplace = True)\n",
      "C:\\Users\\suraj\\AppData\\Local\\Temp\\ipykernel_356\\2150033956.py:3: SettingWithCopyWarning: \n",
      "A value is trying to be set on a copy of a slice from a DataFrame\n",
      "\n",
      "See the caveats in the documentation: https://pandas.pydata.org/pandas-docs/stable/user_guide/indexing.html#returning-a-view-versus-a-copy\n",
      "  dff.rename(columns = {'company':'company_name'}, inplace = True)\n",
      "C:\\Users\\suraj\\AppData\\Local\\Temp\\ipykernel_356\\2150033956.py:4: SettingWithCopyWarning: \n",
      "A value is trying to be set on a copy of a slice from a DataFrame\n",
      "\n",
      "See the caveats in the documentation: https://pandas.pydata.org/pandas-docs/stable/user_guide/indexing.html#returning-a-view-versus-a-copy\n",
      "  dff.rename(columns = {'name':'user_name'}, inplace = True)\n",
      "C:\\Users\\suraj\\AppData\\Local\\Temp\\ipykernel_356\\2150033956.py:5: SettingWithCopyWarning: \n",
      "A value is trying to be set on a copy of a slice from a DataFrame\n",
      "\n",
      "See the caveats in the documentation: https://pandas.pydata.org/pandas-docs/stable/user_guide/indexing.html#returning-a-view-versus-a-copy\n",
      "  dff.rename(columns = {'Count':'number_of_active_flows'}, inplace = True)\n"
     ]
    },
    {
     "data": {
      "text/html": [
       "<div>\n",
       "<style scoped>\n",
       "    .dataframe tbody tr th:only-of-type {\n",
       "        vertical-align: middle;\n",
       "    }\n",
       "\n",
       "    .dataframe tbody tr th {\n",
       "        vertical-align: top;\n",
       "    }\n",
       "\n",
       "    .dataframe thead th {\n",
       "        text-align: right;\n",
       "    }\n",
       "</style>\n",
       "<table border=\"1\" class=\"dataframe\">\n",
       "  <thead>\n",
       "    <tr style=\"text-align: right;\">\n",
       "      <th></th>\n",
       "      <th>account_id</th>\n",
       "      <th>company_name</th>\n",
       "      <th>user_name</th>\n",
       "      <th>number_of_active_flows</th>\n",
       "    </tr>\n",
       "  </thead>\n",
       "  <tbody>\n",
       "    <tr>\n",
       "      <th>0</th>\n",
       "      <td>1</td>\n",
       "      <td>Limechat Development</td>\n",
       "      <td>Limechat Development</td>\n",
       "      <td>79</td>\n",
       "    </tr>\n",
       "    <tr>\n",
       "      <th>1</th>\n",
       "      <td>2</td>\n",
       "      <td>OpenSecret</td>\n",
       "      <td>OpenSecret</td>\n",
       "      <td>20</td>\n",
       "    </tr>\n",
       "    <tr>\n",
       "      <th>2</th>\n",
       "      <td>3</td>\n",
       "      <td>TWTF</td>\n",
       "      <td>TWTF</td>\n",
       "      <td>20</td>\n",
       "    </tr>\n",
       "    <tr>\n",
       "      <th>3</th>\n",
       "      <td>5</td>\n",
       "      <td>Fast&amp;Up</td>\n",
       "      <td>Fast&amp;Up (Aeronutrix)</td>\n",
       "      <td>13</td>\n",
       "    </tr>\n",
       "    <tr>\n",
       "      <th>4</th>\n",
       "      <td>7</td>\n",
       "      <td>Limechat</td>\n",
       "      <td>Limechat Test</td>\n",
       "      <td>113</td>\n",
       "    </tr>\n",
       "    <tr>\n",
       "      <th>...</th>\n",
       "      <td>...</td>\n",
       "      <td>...</td>\n",
       "      <td>...</td>\n",
       "      <td>...</td>\n",
       "    </tr>\n",
       "    <tr>\n",
       "      <th>268</th>\n",
       "      <td>8497</td>\n",
       "      <td>Swatantra Brands</td>\n",
       "      <td>Aditya</td>\n",
       "      <td>4</td>\n",
       "    </tr>\n",
       "    <tr>\n",
       "      <th>269</th>\n",
       "      <td>9419</td>\n",
       "      <td>NativeClap</td>\n",
       "      <td>NativeClap</td>\n",
       "      <td>2</td>\n",
       "    </tr>\n",
       "    <tr>\n",
       "      <th>270</th>\n",
       "      <td>9431</td>\n",
       "      <td>Flits</td>\n",
       "      <td>Flits</td>\n",
       "      <td>2</td>\n",
       "    </tr>\n",
       "    <tr>\n",
       "      <th>271</th>\n",
       "      <td>9435</td>\n",
       "      <td>Sproutlife Foods Pvt. Ltd.</td>\n",
       "      <td>Sproutlife Foods Pvt. Ltd.</td>\n",
       "      <td>5</td>\n",
       "    </tr>\n",
       "    <tr>\n",
       "      <th>272</th>\n",
       "      <td>9468</td>\n",
       "      <td>doveindia</td>\n",
       "      <td>doveindia</td>\n",
       "      <td>7</td>\n",
       "    </tr>\n",
       "  </tbody>\n",
       "</table>\n",
       "<p>273 rows × 4 columns</p>\n",
       "</div>"
      ],
      "text/plain": [
       "     account_id                company_name                   user_name  \\\n",
       "0             1        Limechat Development        Limechat Development   \n",
       "1             2                  OpenSecret                  OpenSecret   \n",
       "2             3                        TWTF                        TWTF   \n",
       "3             5                     Fast&Up        Fast&Up (Aeronutrix)   \n",
       "4             7                    Limechat               Limechat Test   \n",
       "..          ...                         ...                         ...   \n",
       "268        8497            Swatantra Brands                      Aditya   \n",
       "269        9419                  NativeClap                  NativeClap   \n",
       "270        9431                       Flits                       Flits   \n",
       "271        9435  Sproutlife Foods Pvt. Ltd.  Sproutlife Foods Pvt. Ltd.   \n",
       "272        9468                   doveindia                   doveindia   \n",
       "\n",
       "     number_of_active_flows  \n",
       "0                        79  \n",
       "1                        20  \n",
       "2                        20  \n",
       "3                        13  \n",
       "4                       113  \n",
       "..                      ...  \n",
       "268                       4  \n",
       "269                       2  \n",
       "270                       2  \n",
       "271                       5  \n",
       "272                       7  \n",
       "\n",
       "[273 rows x 4 columns]"
      ]
     },
     "execution_count": 14,
     "metadata": {},
     "output_type": "execute_result"
    }
   ],
   "source": [
    "# dff\n",
    "dff.rename(columns = {'id':'account_id'}, inplace = True) \n",
    "dff.rename(columns = {'company':'company_name'}, inplace = True) \n",
    "dff.rename(columns = {'name':'user_name'}, inplace = True) \n",
    "dff.rename(columns = {'Count':'number_of_active_flows'}, inplace = True) \n",
    "dff"
   ]
  },
  {
   "cell_type": "code",
   "execution_count": 15,
   "metadata": {},
   "outputs": [],
   "source": [
    "dff.reset_index(drop=True, inplace=True) "
   ]
  },
  {
   "cell_type": "code",
   "execution_count": 16,
   "metadata": {},
   "outputs": [],
   "source": [
    "dff.to_csv('C://Users//suraj//OneDrive//Desktop//Personal//bhole//limechat//flow//account_id_company_name_flow_count.csv',index=False)"
   ]
  },
  {
   "cell_type": "code",
   "execution_count": null,
   "metadata": {},
   "outputs": [],
   "source": []
  }
 ],
 "metadata": {
  "kernelspec": {
   "display_name": "Python 3",
   "language": "python",
   "name": "python3"
  },
  "language_info": {
   "codemirror_mode": {
    "name": "ipython",
    "version": 3
   },
   "file_extension": ".py",
   "mimetype": "text/x-python",
   "name": "python",
   "nbconvert_exporter": "python",
   "pygments_lexer": "ipython3",
   "version": "3.10.4"
  },
  "orig_nbformat": 4
 },
 "nbformat": 4,
 "nbformat_minor": 2
}
