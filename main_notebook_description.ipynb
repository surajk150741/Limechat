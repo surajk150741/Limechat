{
 "cells": [
  {
   "cell_type": "code",
   "execution_count": 4,
   "metadata": {},
   "outputs": [
    {
     "name": "stdout",
     "output_type": "stream",
     "text": [
      "Requirement already satisfied: langchain in c:\\users\\suraj\\appdata\\local\\packages\\pythonsoftwarefoundation.python.3.9_qbz5n2kfra8p0\\localcache\\local-packages\\python39\\site-packages (0.2.0)\n",
      "Requirement already satisfied: langchain-experimental in c:\\users\\suraj\\appdata\\local\\packages\\pythonsoftwarefoundation.python.3.9_qbz5n2kfra8p0\\localcache\\local-packages\\python39\\site-packages (0.0.59)\n",
      "Requirement already satisfied: tiktoken in c:\\users\\suraj\\appdata\\local\\packages\\pythonsoftwarefoundation.python.3.9_qbz5n2kfra8p0\\localcache\\local-packages\\python39\\site-packages (0.7.0)\n",
      "Requirement already satisfied: langchain-openai in c:\\users\\suraj\\appdata\\local\\packages\\pythonsoftwarefoundation.python.3.9_qbz5n2kfra8p0\\localcache\\local-packages\\python39\\site-packages (0.1.8)\n",
      "Requirement already satisfied: tabulate in c:\\users\\suraj\\appdata\\local\\packages\\pythonsoftwarefoundation.python.3.9_qbz5n2kfra8p0\\localcache\\local-packages\\python39\\site-packages (0.9.0)\n",
      "Requirement already satisfied: langchain-community in c:\\users\\suraj\\appdata\\local\\packages\\pythonsoftwarefoundation.python.3.9_qbz5n2kfra8p0\\localcache\\local-packages\\python39\\site-packages (0.2.0)\n",
      "Requirement already satisfied: fastapi in c:\\users\\suraj\\appdata\\local\\packages\\pythonsoftwarefoundation.python.3.9_qbz5n2kfra8p0\\localcache\\local-packages\\python39\\site-packages (0.111.0)\n",
      "Requirement already satisfied: uvicorn in c:\\users\\suraj\\appdata\\local\\packages\\pythonsoftwarefoundation.python.3.9_qbz5n2kfra8p0\\localcache\\local-packages\\python39\\site-packages (0.30.1)\n",
      "Requirement already satisfied: async-timeout<5.0.0,>=4.0.0 in c:\\users\\suraj\\appdata\\local\\packages\\pythonsoftwarefoundation.python.3.9_qbz5n2kfra8p0\\localcache\\local-packages\\python39\\site-packages (from langchain) (4.0.3)\n",
      "Requirement already satisfied: dataclasses-json<0.7,>=0.5.7 in c:\\users\\suraj\\appdata\\local\\packages\\pythonsoftwarefoundation.python.3.9_qbz5n2kfra8p0\\localcache\\local-packages\\python39\\site-packages (from langchain) (0.6.6)\n",
      "Requirement already satisfied: numpy<2,>=1 in c:\\users\\suraj\\appdata\\local\\packages\\pythonsoftwarefoundation.python.3.9_qbz5n2kfra8p0\\localcache\\local-packages\\python39\\site-packages (from langchain) (1.26.4)\n",
      "Requirement already satisfied: tenacity<9.0.0,>=8.1.0 in c:\\users\\suraj\\appdata\\local\\packages\\pythonsoftwarefoundation.python.3.9_qbz5n2kfra8p0\\localcache\\local-packages\\python39\\site-packages (from langchain) (8.3.0)\n",
      "Requirement already satisfied: langsmith<0.2.0,>=0.1.17 in c:\\users\\suraj\\appdata\\local\\packages\\pythonsoftwarefoundation.python.3.9_qbz5n2kfra8p0\\localcache\\local-packages\\python39\\site-packages (from langchain) (0.1.75)\n",
      "Requirement already satisfied: langchain-core<0.3.0,>=0.2.0 in c:\\users\\suraj\\appdata\\local\\packages\\pythonsoftwarefoundation.python.3.9_qbz5n2kfra8p0\\localcache\\local-packages\\python39\\site-packages (from langchain) (0.2.5)\n",
      "Requirement already satisfied: langchain-text-splitters<0.3.0,>=0.2.0 in c:\\users\\suraj\\appdata\\local\\packages\\pythonsoftwarefoundation.python.3.9_qbz5n2kfra8p0\\localcache\\local-packages\\python39\\site-packages (from langchain) (0.2.0)\n",
      "Requirement already satisfied: pydantic<3,>=1 in c:\\users\\suraj\\appdata\\local\\packages\\pythonsoftwarefoundation.python.3.9_qbz5n2kfra8p0\\localcache\\local-packages\\python39\\site-packages (from langchain) (2.7.1)\n",
      "Requirement already satisfied: SQLAlchemy<3,>=1.4 in c:\\users\\suraj\\appdata\\local\\packages\\pythonsoftwarefoundation.python.3.9_qbz5n2kfra8p0\\localcache\\local-packages\\python39\\site-packages (from langchain) (2.0.30)\n",
      "Requirement already satisfied: PyYAML>=5.3 in c:\\users\\suraj\\appdata\\local\\packages\\pythonsoftwarefoundation.python.3.9_qbz5n2kfra8p0\\localcache\\local-packages\\python39\\site-packages (from langchain) (6.0.1)\n",
      "Requirement already satisfied: aiohttp<4.0.0,>=3.8.3 in c:\\users\\suraj\\appdata\\local\\packages\\pythonsoftwarefoundation.python.3.9_qbz5n2kfra8p0\\localcache\\local-packages\\python39\\site-packages (from langchain) (3.9.5)\n",
      "Requirement already satisfied: requests<3,>=2 in c:\\users\\suraj\\appdata\\local\\packages\\pythonsoftwarefoundation.python.3.9_qbz5n2kfra8p0\\localcache\\local-packages\\python39\\site-packages (from langchain) (2.32.2)\n",
      "Requirement already satisfied: regex>=2022.1.18 in c:\\users\\suraj\\appdata\\local\\packages\\pythonsoftwarefoundation.python.3.9_qbz5n2kfra8p0\\localcache\\local-packages\\python39\\site-packages (from tiktoken) (2022.1.18)\n",
      "Requirement already satisfied: openai<2.0.0,>=1.26.0 in c:\\users\\suraj\\appdata\\local\\packages\\pythonsoftwarefoundation.python.3.9_qbz5n2kfra8p0\\localcache\\local-packages\\python39\\site-packages (from langchain-openai) (1.30.1)\n",
      "Requirement already satisfied: httpx>=0.23.0 in c:\\users\\suraj\\appdata\\local\\packages\\pythonsoftwarefoundation.python.3.9_qbz5n2kfra8p0\\localcache\\local-packages\\python39\\site-packages (from fastapi) (0.27.0)\n",
      "Requirement already satisfied: python-multipart>=0.0.7 in c:\\users\\suraj\\appdata\\local\\packages\\pythonsoftwarefoundation.python.3.9_qbz5n2kfra8p0\\localcache\\local-packages\\python39\\site-packages (from fastapi) (0.0.9)\n",
      "Requirement already satisfied: orjson>=3.2.1 in c:\\users\\suraj\\appdata\\local\\packages\\pythonsoftwarefoundation.python.3.9_qbz5n2kfra8p0\\localcache\\local-packages\\python39\\site-packages (from fastapi) (3.10.3)\n",
      "Requirement already satisfied: jinja2>=2.11.2 in c:\\users\\suraj\\appdata\\local\\packages\\pythonsoftwarefoundation.python.3.9_qbz5n2kfra8p0\\localcache\\local-packages\\python39\\site-packages (from fastapi) (3.1.4)\n",
      "Requirement already satisfied: fastapi-cli>=0.0.2 in c:\\users\\suraj\\appdata\\local\\packages\\pythonsoftwarefoundation.python.3.9_qbz5n2kfra8p0\\localcache\\local-packages\\python39\\site-packages (from fastapi) (0.0.4)\n",
      "Requirement already satisfied: ujson!=4.0.2,!=4.1.0,!=4.2.0,!=4.3.0,!=5.0.0,!=5.1.0,>=4.0.1 in c:\\users\\suraj\\appdata\\local\\packages\\pythonsoftwarefoundation.python.3.9_qbz5n2kfra8p0\\localcache\\local-packages\\python39\\site-packages (from fastapi) (5.10.0)\n",
      "Requirement already satisfied: email_validator>=2.0.0 in c:\\users\\suraj\\appdata\\local\\packages\\pythonsoftwarefoundation.python.3.9_qbz5n2kfra8p0\\localcache\\local-packages\\python39\\site-packages (from fastapi) (2.1.1)\n",
      "Requirement already satisfied: starlette<0.38.0,>=0.37.2 in c:\\users\\suraj\\appdata\\local\\packages\\pythonsoftwarefoundation.python.3.9_qbz5n2kfra8p0\\localcache\\local-packages\\python39\\site-packages (from fastapi) (0.37.2)\n",
      "Requirement already satisfied: typing-extensions>=4.8.0 in c:\\users\\suraj\\appdata\\local\\packages\\pythonsoftwarefoundation.python.3.9_qbz5n2kfra8p0\\localcache\\local-packages\\python39\\site-packages (from fastapi) (4.12.2)\n",
      "Requirement already satisfied: h11>=0.8 in c:\\users\\suraj\\appdata\\local\\packages\\pythonsoftwarefoundation.python.3.9_qbz5n2kfra8p0\\localcache\\local-packages\\python39\\site-packages (from uvicorn) (0.14.0)\n",
      "Requirement already satisfied: click>=7.0 in c:\\users\\suraj\\appdata\\local\\packages\\pythonsoftwarefoundation.python.3.9_qbz5n2kfra8p0\\localcache\\local-packages\\python39\\site-packages (from uvicorn) (8.0.3)\n",
      "Requirement already satisfied: yarl<2.0,>=1.0 in c:\\users\\suraj\\appdata\\local\\packages\\pythonsoftwarefoundation.python.3.9_qbz5n2kfra8p0\\localcache\\local-packages\\python39\\site-packages (from aiohttp<4.0.0,>=3.8.3->langchain) (1.9.4)\n",
      "Requirement already satisfied: aiosignal>=1.1.2 in c:\\users\\suraj\\appdata\\local\\packages\\pythonsoftwarefoundation.python.3.9_qbz5n2kfra8p0\\localcache\\local-packages\\python39\\site-packages (from aiohttp<4.0.0,>=3.8.3->langchain) (1.3.1)\n",
      "Requirement already satisfied: attrs>=17.3.0 in c:\\users\\suraj\\appdata\\local\\packages\\pythonsoftwarefoundation.python.3.9_qbz5n2kfra8p0\\localcache\\local-packages\\python39\\site-packages (from aiohttp<4.0.0,>=3.8.3->langchain) (23.2.0)\n",
      "Requirement already satisfied: frozenlist>=1.1.1 in c:\\users\\suraj\\appdata\\local\\packages\\pythonsoftwarefoundation.python.3.9_qbz5n2kfra8p0\\localcache\\local-packages\\python39\\site-packages (from aiohttp<4.0.0,>=3.8.3->langchain) (1.4.1)\n",
      "Requirement already satisfied: multidict<7.0,>=4.5 in c:\\users\\suraj\\appdata\\local\\packages\\pythonsoftwarefoundation.python.3.9_qbz5n2kfra8p0\\localcache\\local-packages\\python39\\site-packages (from aiohttp<4.0.0,>=3.8.3->langchain) (6.0.5)\n",
      "Requirement already satisfied: colorama in c:\\users\\suraj\\appdata\\local\\packages\\pythonsoftwarefoundation.python.3.9_qbz5n2kfra8p0\\localcache\\local-packages\\python39\\site-packages (from click>=7.0->uvicorn) (0.4.4)\n",
      "Requirement already satisfied: typing-inspect<1,>=0.4.0 in c:\\users\\suraj\\appdata\\local\\packages\\pythonsoftwarefoundation.python.3.9_qbz5n2kfra8p0\\localcache\\local-packages\\python39\\site-packages (from dataclasses-json<0.7,>=0.5.7->langchain) (0.9.0)\n",
      "Requirement already satisfied: marshmallow<4.0.0,>=3.18.0 in c:\\users\\suraj\\appdata\\local\\packages\\pythonsoftwarefoundation.python.3.9_qbz5n2kfra8p0\\localcache\\local-packages\\python39\\site-packages (from dataclasses-json<0.7,>=0.5.7->langchain) (3.21.2)\n",
      "Requirement already satisfied: dnspython>=2.0.0 in c:\\users\\suraj\\appdata\\local\\packages\\pythonsoftwarefoundation.python.3.9_qbz5n2kfra8p0\\localcache\\local-packages\\python39\\site-packages (from email_validator>=2.0.0->fastapi) (2.6.1)\n",
      "Requirement already satisfied: idna>=2.0.0 in c:\\users\\suraj\\appdata\\local\\packages\\pythonsoftwarefoundation.python.3.9_qbz5n2kfra8p0\\localcache\\local-packages\\python39\\site-packages (from email_validator>=2.0.0->fastapi) (3.7)\n",
      "Requirement already satisfied: typer>=0.12.3 in c:\\users\\suraj\\appdata\\local\\packages\\pythonsoftwarefoundation.python.3.9_qbz5n2kfra8p0\\localcache\\local-packages\\python39\\site-packages (from fastapi-cli>=0.0.2->fastapi) (0.12.3)\n",
      "Requirement already satisfied: httpcore==1.* in c:\\users\\suraj\\appdata\\local\\packages\\pythonsoftwarefoundation.python.3.9_qbz5n2kfra8p0\\localcache\\local-packages\\python39\\site-packages (from httpx>=0.23.0->fastapi) (1.0.5)\n",
      "Requirement already satisfied: anyio in c:\\users\\suraj\\appdata\\local\\packages\\pythonsoftwarefoundation.python.3.9_qbz5n2kfra8p0\\localcache\\local-packages\\python39\\site-packages (from httpx>=0.23.0->fastapi) (4.3.0)\n",
      "Requirement already satisfied: certifi in c:\\users\\suraj\\appdata\\local\\packages\\pythonsoftwarefoundation.python.3.9_qbz5n2kfra8p0\\localcache\\local-packages\\python39\\site-packages (from httpx>=0.23.0->fastapi) (2024.2.2)\n",
      "Requirement already satisfied: sniffio in c:\\users\\suraj\\appdata\\local\\packages\\pythonsoftwarefoundation.python.3.9_qbz5n2kfra8p0\\localcache\\local-packages\\python39\\site-packages (from httpx>=0.23.0->fastapi) (1.3.1)\n",
      "Requirement already satisfied: MarkupSafe>=2.0 in c:\\users\\suraj\\appdata\\local\\packages\\pythonsoftwarefoundation.python.3.9_qbz5n2kfra8p0\\localcache\\local-packages\\python39\\site-packages (from jinja2>=2.11.2->fastapi) (2.1.5)\n",
      "Requirement already satisfied: packaging<24.0,>=23.2 in c:\\users\\suraj\\appdata\\local\\packages\\pythonsoftwarefoundation.python.3.9_qbz5n2kfra8p0\\localcache\\local-packages\\python39\\site-packages (from langchain-core<0.3.0,>=0.2.0->langchain) (23.2)\n",
      "Requirement already satisfied: jsonpatch<2.0,>=1.33 in c:\\users\\suraj\\appdata\\local\\packages\\pythonsoftwarefoundation.python.3.9_qbz5n2kfra8p0\\localcache\\local-packages\\python39\\site-packages (from langchain-core<0.3.0,>=0.2.0->langchain) (1.33)\n",
      "Requirement already satisfied: distro<2,>=1.7.0 in c:\\users\\suraj\\appdata\\local\\packages\\pythonsoftwarefoundation.python.3.9_qbz5n2kfra8p0\\localcache\\local-packages\\python39\\site-packages (from openai<2.0.0,>=1.26.0->langchain-openai) (1.9.0)\n",
      "Requirement already satisfied: tqdm>4 in c:\\users\\suraj\\appdata\\local\\packages\\pythonsoftwarefoundation.python.3.9_qbz5n2kfra8p0\\localcache\\local-packages\\python39\\site-packages (from openai<2.0.0,>=1.26.0->langchain-openai) (4.66.4)\n",
      "Requirement already satisfied: annotated-types>=0.4.0 in c:\\users\\suraj\\appdata\\local\\packages\\pythonsoftwarefoundation.python.3.9_qbz5n2kfra8p0\\localcache\\local-packages\\python39\\site-packages (from pydantic<3,>=1->langchain) (0.7.0)\n",
      "Requirement already satisfied: pydantic-core==2.18.2 in c:\\users\\suraj\\appdata\\local\\packages\\pythonsoftwarefoundation.python.3.9_qbz5n2kfra8p0\\localcache\\local-packages\\python39\\site-packages (from pydantic<3,>=1->langchain) (2.18.2)\n",
      "Requirement already satisfied: charset-normalizer<4,>=2 in c:\\users\\suraj\\appdata\\local\\packages\\pythonsoftwarefoundation.python.3.9_qbz5n2kfra8p0\\localcache\\local-packages\\python39\\site-packages (from requests<3,>=2->langchain) (3.3.2)\n",
      "Requirement already satisfied: urllib3<3,>=1.21.1 in c:\\users\\suraj\\appdata\\local\\packages\\pythonsoftwarefoundation.python.3.9_qbz5n2kfra8p0\\localcache\\local-packages\\python39\\site-packages (from requests<3,>=2->langchain) (2.2.1)\n",
      "Requirement already satisfied: greenlet!=0.4.17 in c:\\users\\suraj\\appdata\\local\\packages\\pythonsoftwarefoundation.python.3.9_qbz5n2kfra8p0\\localcache\\local-packages\\python39\\site-packages (from SQLAlchemy<3,>=1.4->langchain) (3.0.3)\n",
      "Requirement already satisfied: python-dotenv>=0.13 in c:\\users\\suraj\\appdata\\local\\packages\\pythonsoftwarefoundation.python.3.9_qbz5n2kfra8p0\\localcache\\local-packages\\python39\\site-packages (from uvicorn) (1.0.1)\n",
      "Requirement already satisfied: watchfiles>=0.13 in c:\\users\\suraj\\appdata\\local\\packages\\pythonsoftwarefoundation.python.3.9_qbz5n2kfra8p0\\localcache\\local-packages\\python39\\site-packages (from uvicorn) (0.22.0)\n",
      "Requirement already satisfied: websockets>=10.4 in c:\\users\\suraj\\appdata\\local\\packages\\pythonsoftwarefoundation.python.3.9_qbz5n2kfra8p0\\localcache\\local-packages\\python39\\site-packages (from uvicorn) (12.0)\n",
      "Requirement already satisfied: httptools>=0.5.0 in c:\\users\\suraj\\appdata\\local\\packages\\pythonsoftwarefoundation.python.3.9_qbz5n2kfra8p0\\localcache\\local-packages\\python39\\site-packages (from uvicorn) (0.6.1)\n",
      "Requirement already satisfied: exceptiongroup>=1.0.2 in c:\\users\\suraj\\appdata\\local\\packages\\pythonsoftwarefoundation.python.3.9_qbz5n2kfra8p0\\localcache\\local-packages\\python39\\site-packages (from anyio->httpx>=0.23.0->fastapi) (1.2.1)\n",
      "Requirement already satisfied: jsonpointer>=1.9 in c:\\users\\suraj\\appdata\\local\\packages\\pythonsoftwarefoundation.python.3.9_qbz5n2kfra8p0\\localcache\\local-packages\\python39\\site-packages (from jsonpatch<2.0,>=1.33->langchain-core<0.3.0,>=0.2.0->langchain) (2.4)\n",
      "Requirement already satisfied: rich>=10.11.0 in c:\\users\\suraj\\appdata\\local\\packages\\pythonsoftwarefoundation.python.3.9_qbz5n2kfra8p0\\localcache\\local-packages\\python39\\site-packages (from typer>=0.12.3->fastapi-cli>=0.0.2->fastapi) (13.7.1)\n",
      "Requirement already satisfied: shellingham>=1.3.0 in c:\\users\\suraj\\appdata\\local\\packages\\pythonsoftwarefoundation.python.3.9_qbz5n2kfra8p0\\localcache\\local-packages\\python39\\site-packages (from typer>=0.12.3->fastapi-cli>=0.0.2->fastapi) (1.5.4)\n",
      "Requirement already satisfied: mypy-extensions>=0.3.0 in c:\\users\\suraj\\appdata\\local\\packages\\pythonsoftwarefoundation.python.3.9_qbz5n2kfra8p0\\localcache\\local-packages\\python39\\site-packages (from typing-inspect<1,>=0.4.0->dataclasses-json<0.7,>=0.5.7->langchain) (1.0.0)\n",
      "Requirement already satisfied: markdown-it-py>=2.2.0 in c:\\users\\suraj\\appdata\\local\\packages\\pythonsoftwarefoundation.python.3.9_qbz5n2kfra8p0\\localcache\\local-packages\\python39\\site-packages (from rich>=10.11.0->typer>=0.12.3->fastapi-cli>=0.0.2->fastapi) (3.0.0)\n",
      "Requirement already satisfied: pygments<3.0.0,>=2.13.0 in c:\\users\\suraj\\appdata\\local\\packages\\pythonsoftwarefoundation.python.3.9_qbz5n2kfra8p0\\localcache\\local-packages\\python39\\site-packages (from rich>=10.11.0->typer>=0.12.3->fastapi-cli>=0.0.2->fastapi) (2.16.1)\n",
      "Requirement already satisfied: mdurl~=0.1 in c:\\users\\suraj\\appdata\\local\\packages\\pythonsoftwarefoundation.python.3.9_qbz5n2kfra8p0\\localcache\\local-packages\\python39\\site-packages (from markdown-it-py>=2.2.0->rich>=10.11.0->typer>=0.12.3->fastapi-cli>=0.0.2->fastapi) (0.1.2)\n"
     ]
    },
    {
     "name": "stderr",
     "output_type": "stream",
     "text": [
      "WARNING: You are using pip version 22.0.2; however, version 24.1.2 is available.\n",
      "You should consider upgrading via the 'C:\\Users\\suraj\\AppData\\Local\\Microsoft\\WindowsApps\\PythonSoftwareFoundation.Python.3.9_qbz5n2kfra8p0\\python.exe -m pip install --upgrade pip' command.\n"
     ]
    }
   ],
   "source": [
    "# !pip install langchain langchain-experimental openai tiktoken\n",
    "!pip install langchain langchain-experimental tiktoken langchain-openai tabulate langchain-community fastapi uvicorn "
   ]
  },
  {
   "cell_type": "code",
   "execution_count": 5,
   "metadata": {},
   "outputs": [
    {
     "name": "stdout",
     "output_type": "stream",
     "text": [
      "Requirement already satisfied: python-dotenv in c:\\users\\suraj\\appdata\\local\\packages\\pythonsoftwarefoundation.python.3.9_qbz5n2kfra8p0\\localcache\\local-packages\\python39\\site-packages (1.0.1)\n"
     ]
    },
    {
     "name": "stderr",
     "output_type": "stream",
     "text": [
      "WARNING: You are using pip version 22.0.2; however, version 24.1.2 is available.\n",
      "You should consider upgrading via the 'C:\\Users\\suraj\\AppData\\Local\\Microsoft\\WindowsApps\\PythonSoftwareFoundation.Python.3.9_qbz5n2kfra8p0\\python.exe -m pip install --upgrade pip' command.\n"
     ]
    }
   ],
   "source": [
    "!pip install python-dotenv\n",
    "#  chromadb"
   ]
  },
  {
   "cell_type": "code",
   "execution_count": 1,
   "metadata": {},
   "outputs": [
    {
     "name": "stderr",
     "output_type": "stream",
     "text": [
      "WARNING: You are using pip version 22.0.2; however, version 24.1.1 is available.\n",
      "You should consider upgrading via the 'C:\\Users\\suraj\\AppData\\Local\\Microsoft\\WindowsApps\\PythonSoftwareFoundation.Python.3.9_qbz5n2kfra8p0\\python.exe -m pip install --upgrade pip' command.\n"
     ]
    }
   ],
   "source": [
    "!pip install --upgrade --quiet  clickhouse-connect"
   ]
  },
  {
   "cell_type": "code",
   "execution_count": 4,
   "metadata": {},
   "outputs": [
    {
     "name": "stderr",
     "output_type": "stream",
     "text": [
      "docker: Error response from daemon: Conflict. The container name \"/langchain-clickhouse-server\" is already in use by container \"3e2f5d3bf114eb752b2bf9f1fbb88ba911a00b08ffa4d938bef2497f91835ab9\". You have to remove (or rename) that container to be able to reuse that name.\n",
      "See 'docker run --help'.\n"
     ]
    }
   ],
   "source": [
    "! docker run -d -p 8123:8123 -p9000:9000 --name langchain-clickhouse-server --ulimit nofile=262144:262144 clickhouse/clickhouse-server:23.4.2.11"
   ]
  },
  {
   "attachments": {},
   "cell_type": "markdown",
   "metadata": {},
   "source": [
    "### copy the result of following cell and paste in a query editor in mysql to edit the columns"
   ]
  },
  {
   "cell_type": "code",
   "execution_count": 49,
   "metadata": {},
   "outputs": [
    {
     "name": "stdout",
     "output_type": "stream",
     "text": [
      "ALTER TABLE `messages` MODIFY COLUMN `id` INT(11) COMMENT 'id is a sequentially increasing number. It can uniquely identify an event and is the PRIMARY KEY of the table. ';\n",
      "ALTER TABLE `messages` MODIFY COLUMN `content` VARCHAR(255) COMMENT 'Content of the message being sent';\n",
      "ALTER TABLE `messages` MODIFY COLUMN `account_id` INT(11) COMMENT 'Company ID. This is the unique identifier for a company. This ID comes from HelpDesk and is the same as the ID HelpDesk uses for identifying the company';\n",
      "ALTER TABLE `messages` MODIFY COLUMN `inbox_id` INT(11) COMMENT 'Unique Inbox Id. Each account may have multiple inboxes (Whatsapp, Facebook, Website, etc)';\n",
      "ALTER TABLE `messages` MODIFY COLUMN `conversation_id` INT(11) COMMENT '(UTC) references the conversation to which agent is assigned';\n",
      "ALTER TABLE `messages` MODIFY COLUMN `message_type` INT(11) COMMENT '0 - Incoming\n",
      "1 - Outgoing\n",
      "2 - Activity\n",
      "3 - Template\n",
      "5 - Sync_out\n",
      "7 - info_collect\n",
      "8 - outbound_bot\n",
      "9 - out_of_office_email\n",
      "\n",
      "https://www.notion.so/435acffe333b4688a4246fa3d0b1fcbc?pvs=21 for description';\n",
      "ALTER TABLE `messages` MODIFY COLUMN `created_at` TIMESTAMP COMMENT '(UTC) at which message is created at';\n",
      "ALTER TABLE `messages` MODIFY COLUMN `updated_at` TIMESTAMP COMMENT '(UTC) at which message is updated at';\n",
      "ALTER TABLE `messages` MODIFY COLUMN `private` TINYINT COMMENT 'An agent can mark a message as ‘private note’ in the conversation. It can only be visible to the agent, not the customer.';\n",
      "ALTER TABLE `messages` MODIFY COLUMN `status` INT(11) COMMENT 'Represents the status of the message.\n",
      "sent: 0\n",
      "read: 2\n",
      "failed to send: 3';\n",
      "ALTER TABLE `messages` MODIFY COLUMN `source_id` VARCHAR(255) COMMENT 'Basically, stores foreign key of external api responses.';\n",
      "ALTER TABLE `messages` MODIFY COLUMN `content_type` INT(11) COMMENT '0 - text\n",
      "4 - input_select\n",
      "5 - cards\n",
      "11 - input_csat\n",
      "12 - wait_time\n",
      "13 - sticker\n",
      "14 - product_message\n",
      "15 - product_message_list\n",
      "\n",
      "https://www.notion.so/435acffe333b4688a4246fa3d0b1fcbc?pvs=21 for description';\n",
      "ALTER TABLE `messages` MODIFY COLUMN `content_attributes` JSON COMMENT 'Stores metadata (or some extra info) about the message. \n",
      "has multipurpose use cases,\n",
      "if its a product card message, then content attributes will store the array of product cards\n",
      "if its a button message, then it will store array of buttons\n",
      "Also, in case of errors while sending message, it will store the reason of failure etc.';\n",
      "ALTER TABLE `messages` MODIFY COLUMN `sender_type` VARCHAR(255) COMMENT 'Sender type represents who is sending the message\n",
      "- User [Agent]\n",
      "- Contact [Customer]\n",
      "- AgentBot[Bot]\n",
      "- Outbound[Campaign]';\n",
      "ALTER TABLE `messages` MODIFY COLUMN `sender_id` INT(11) COMMENT 'It is the foreign key of entity who sent the message';\n",
      "ALTER TABLE `messages` MODIFY COLUMN `external_source_ids` JSON COMMENT 'Deprecated';\n",
      "ALTER TABLE `messages` MODIFY COLUMN `template_id` INT(11) COMMENT 'Refers id from templates table. ';\n",
      "ALTER TABLE `messages` MODIFY COLUMN `template_attributes` JSON COMMENT 'Values filling in the template';\n",
      "ALTER TABLE `messages` MODIFY COLUMN `broadcast_id` INT(11) COMMENT 'Refers to the id from broadcast table';\n",
      "ALTER TABLE `messages` MODIFY COLUMN `reply_to_facebook_comment` VARCHAR(255) COMMENT 'Deprecated';\n",
      "ALTER TABLE `messages` MODIFY COLUMN `email_draft` TINYINT COMMENT 'a boolean flag to tell if the message is stored as a email draft or not. This is only applicable on email inbox';\n"
     ]
    }
   ],
   "source": [
    "import csv\n",
    "import pandas as pd\n",
    "import  sys\n",
    "# Open the CSV file\n",
    "table = \"messages\"  #\"agent_analytics\",\"contacts\",\"conversations\",\"inboxes\",\"messages\"\n",
    "with open(f\"C:/Users/suraj/OneDrive/Desktop/Personal/bhole/gen-AI/files/descriptions/d_{table}.csv\", mode='r',encoding='utf-8-sig') as csv_file:\n",
    "    df = csv.DictReader(csv_file)\n",
    "    # Define your mapping dictionary\n",
    "    {'bigint', 'double', 'int', 'tinyint(1)', 'text'}\n",
    "    mapping_dict = {'foreign_key, integer': 'INT(11)','integer, primary_key': 'INT(11)','integer': 'INT(11)','float': 'FLOAT','string, uuid':'VARCHAR(255)','not_used': 'VARCHAR(255)', 'string': 'VARCHAR(255)', 'timestamp': 'TIMESTAMP', 'JSON': 'JSON', 'json': 'JSON','boolean': 'TINYINT','bool': 'TINYINT','': 'VARCHAR(255)','bigint': 'INT(11)','double': 'FLOAT', 'int': 'INT(11)','tinyint(1)': 'TINYINT','text': 'VARCHAR(255)'}\n",
    "    with open(f\"C:/Users/suraj/OneDrive/Desktop/Personal/bhole/gen-AI/files/descriptions/schema_full/s_{table}.csv\", mode='r',encoding='utf-8-sig') as csv_file:\n",
    "        schema = csv.DictReader(csv_file)\n",
    "        types = []\n",
    "        for row in schema:\n",
    "            types.append(row['Type'])\n",
    "        # Use the map function to create a new column\n",
    "        # print(set(types))\n",
    "\n",
    "        # Loop through each row in the CSV\n",
    "        num = 0\n",
    "        for row in df:\n",
    "            # print(row)\n",
    "            column_name = row['column']\n",
    "            column_name = column_name.replace(' ','_')\n",
    "            description = row['description']\n",
    "            row['d_type'] = types[num]\n",
    "            row['d_type']=mapping_dict[row['data_type']]\n",
    "            d_type = row['d_type']\n",
    "            num+=1\n",
    "            # Generate the SQL statement to update the column description\n",
    "            sql_statement = f\"ALTER TABLE `{table}` MODIFY COLUMN `{column_name}` {d_type} COMMENT '{description}';\"\n",
    "            \n",
    "            # Execute the SQL statement or print it for further use\n",
    "            print(sql_statement)\n",
    "\n",
    "# sql_statement"
   ]
  },
  {
   "cell_type": "code",
   "execution_count": 12,
   "metadata": {},
   "outputs": [
    {
     "ename": "FileNotFoundError",
     "evalue": "[Errno 2] No such file or directory: 'files\\\\d_contacts.csv'",
     "output_type": "error",
     "traceback": [
      "\u001b[1;31m---------------------------------------------------------------------------\u001b[0m",
      "\u001b[1;31mFileNotFoundError\u001b[0m                         Traceback (most recent call last)",
      "Cell \u001b[1;32mIn[12], line 2\u001b[0m\n\u001b[0;32m      1\u001b[0m mapping_dict \u001b[39m=\u001b[39m {\u001b[39m'\u001b[39m\u001b[39minteger\u001b[39m\u001b[39m'\u001b[39m: \u001b[39m'\u001b[39m\u001b[39mINT(11)\u001b[39m\u001b[39m'\u001b[39m, \u001b[39m'\u001b[39m\u001b[39mstring\u001b[39m\u001b[39m'\u001b[39m: \u001b[39m'\u001b[39m\u001b[39mVARCHAR(255)\u001b[39m\u001b[39m'\u001b[39m, \u001b[39m'\u001b[39m\u001b[39mtimestamp\u001b[39m\u001b[39m'\u001b[39m: \u001b[39m'\u001b[39m\u001b[39mTIMESTAMP\u001b[39m\u001b[39m'\u001b[39m, \u001b[39m'\u001b[39m\u001b[39mjson\u001b[39m\u001b[39m'\u001b[39m: \u001b[39m'\u001b[39m\u001b[39mJSON\u001b[39m\u001b[39m'\u001b[39m}\n\u001b[1;32m----> 2\u001b[0m \u001b[39mwith\u001b[39;00m \u001b[39mopen\u001b[39;49m(\u001b[39m'\u001b[39;49m\u001b[39mfiles\u001b[39;49m\u001b[39m\\\u001b[39;49m\u001b[39md_contacts.csv\u001b[39;49m\u001b[39m'\u001b[39;49m, mode\u001b[39m=\u001b[39;49m\u001b[39m'\u001b[39;49m\u001b[39mr\u001b[39;49m\u001b[39m'\u001b[39;49m) \u001b[39mas\u001b[39;00m csv_file:\n\u001b[0;32m      3\u001b[0m     df \u001b[39m=\u001b[39m csv\u001b[39m.\u001b[39mDictReader(csv_file)\n\u001b[0;32m      4\u001b[0m     \u001b[39mfor\u001b[39;00m row \u001b[39min\u001b[39;00m df:\n",
      "File \u001b[1;32m~\\AppData\\Local\\Packages\\PythonSoftwareFoundation.Python.3.9_qbz5n2kfra8p0\\LocalCache\\local-packages\\Python39\\site-packages\\IPython\\core\\interactiveshell.py:284\u001b[0m, in \u001b[0;36m_modified_open\u001b[1;34m(file, *args, **kwargs)\u001b[0m\n\u001b[0;32m    277\u001b[0m \u001b[39mif\u001b[39;00m file \u001b[39min\u001b[39;00m {\u001b[39m0\u001b[39m, \u001b[39m1\u001b[39m, \u001b[39m2\u001b[39m}:\n\u001b[0;32m    278\u001b[0m     \u001b[39mraise\u001b[39;00m \u001b[39mValueError\u001b[39;00m(\n\u001b[0;32m    279\u001b[0m         \u001b[39mf\u001b[39m\u001b[39m\"\u001b[39m\u001b[39mIPython won\u001b[39m\u001b[39m'\u001b[39m\u001b[39mt let you open fd=\u001b[39m\u001b[39m{\u001b[39;00mfile\u001b[39m}\u001b[39;00m\u001b[39m by default \u001b[39m\u001b[39m\"\u001b[39m\n\u001b[0;32m    280\u001b[0m         \u001b[39m\"\u001b[39m\u001b[39mas it is likely to crash IPython. If you know what you are doing, \u001b[39m\u001b[39m\"\u001b[39m\n\u001b[0;32m    281\u001b[0m         \u001b[39m\"\u001b[39m\u001b[39myou can use builtins\u001b[39m\u001b[39m'\u001b[39m\u001b[39m open.\u001b[39m\u001b[39m\"\u001b[39m\n\u001b[0;32m    282\u001b[0m     )\n\u001b[1;32m--> 284\u001b[0m \u001b[39mreturn\u001b[39;00m io_open(file, \u001b[39m*\u001b[39margs, \u001b[39m*\u001b[39m\u001b[39m*\u001b[39mkwargs)\n",
      "\u001b[1;31mFileNotFoundError\u001b[0m: [Errno 2] No such file or directory: 'files\\\\d_contacts.csv'"
     ]
    }
   ],
   "source": [
    "mapping_dict = {'integer': 'INT(11)', 'string': 'VARCHAR(255)', 'timestamp': 'TIMESTAMP', 'json': 'JSON'}\n",
    "with open('files\\d_contacts.csv', mode='r') as csv_file:\n",
    "    df = csv.DictReader(csv_file)\n",
    "    for row in df:\n",
    "        print(row['data_type'])\n",
    "        row['d_type']=mapping_dict[row['data_type']]\n",
    "        print(row['d_type'])"
   ]
  },
  {
   "cell_type": "code",
   "execution_count": null,
   "metadata": {},
   "outputs": [],
   "source": []
  }
 ],
 "metadata": {
  "kernelspec": {
   "display_name": "Python 3",
   "language": "python",
   "name": "python3"
  },
  "language_info": {
   "codemirror_mode": {
    "name": "ipython",
    "version": 3
   },
   "file_extension": ".py",
   "mimetype": "text/x-python",
   "name": "python",
   "nbconvert_exporter": "python",
   "pygments_lexer": "ipython3",
   "version": "3.9.13"
  },
  "orig_nbformat": 4
 },
 "nbformat": 4,
 "nbformat_minor": 2
}
