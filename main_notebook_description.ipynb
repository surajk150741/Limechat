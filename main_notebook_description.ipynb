{
 "cells": [
  {
   "cell_type": "code",
   "execution_count": 1,
   "metadata": {},
   "outputs": [
    {
     "name": "stdout",
     "output_type": "stream",
     "text": [
      "Requirement already satisfied: langchain in c:\\users\\suraj\\appdata\\local\\packages\\pythonsoftwarefoundation.python.3.9_qbz5n2kfra8p0\\localcache\\local-packages\\python39\\site-packages (0.2.0)\n",
      "Requirement already satisfied: langchain-experimental in c:\\users\\suraj\\appdata\\local\\packages\\pythonsoftwarefoundation.python.3.9_qbz5n2kfra8p0\\localcache\\local-packages\\python39\\site-packages (0.0.59)\n",
      "Requirement already satisfied: tiktoken in c:\\users\\suraj\\appdata\\local\\packages\\pythonsoftwarefoundation.python.3.9_qbz5n2kfra8p0\\localcache\\local-packages\\python39\\site-packages (0.7.0)\n",
      "Requirement already satisfied: langchain-openai in c:\\users\\suraj\\appdata\\local\\packages\\pythonsoftwarefoundation.python.3.9_qbz5n2kfra8p0\\localcache\\local-packages\\python39\\site-packages (0.1.8)\n",
      "Requirement already satisfied: tabulate in c:\\users\\suraj\\appdata\\local\\packages\\pythonsoftwarefoundation.python.3.9_qbz5n2kfra8p0\\localcache\\local-packages\\python39\\site-packages (0.9.0)\n",
      "Requirement already satisfied: langchain-community in c:\\users\\suraj\\appdata\\local\\packages\\pythonsoftwarefoundation.python.3.9_qbz5n2kfra8p0\\localcache\\local-packages\\python39\\site-packages (0.2.0)\n",
      "Requirement already satisfied: fastapi in c:\\users\\suraj\\appdata\\local\\packages\\pythonsoftwarefoundation.python.3.9_qbz5n2kfra8p0\\localcache\\local-packages\\python39\\site-packages (0.111.0)\n",
      "Requirement already satisfied: uvicorn in c:\\users\\suraj\\appdata\\local\\packages\\pythonsoftwarefoundation.python.3.9_qbz5n2kfra8p0\\localcache\\local-packages\\python39\\site-packages (0.30.1)\n",
      "Requirement already satisfied: dataclasses-json<0.7,>=0.5.7 in c:\\users\\suraj\\appdata\\local\\packages\\pythonsoftwarefoundation.python.3.9_qbz5n2kfra8p0\\localcache\\local-packages\\python39\\site-packages (from langchain) (0.6.6)\n",
      "Requirement already satisfied: numpy<2,>=1 in c:\\users\\suraj\\appdata\\local\\packages\\pythonsoftwarefoundation.python.3.9_qbz5n2kfra8p0\\localcache\\local-packages\\python39\\site-packages (from langchain) (1.26.4)\n",
      "Requirement already satisfied: tenacity<9.0.0,>=8.1.0 in c:\\users\\suraj\\appdata\\local\\packages\\pythonsoftwarefoundation.python.3.9_qbz5n2kfra8p0\\localcache\\local-packages\\python39\\site-packages (from langchain) (8.3.0)\n",
      "Requirement already satisfied: langchain-core<0.3.0,>=0.2.0 in c:\\users\\suraj\\appdata\\local\\packages\\pythonsoftwarefoundation.python.3.9_qbz5n2kfra8p0\\localcache\\local-packages\\python39\\site-packages (from langchain) (0.2.5)\n",
      "Requirement already satisfied: pydantic<3,>=1 in c:\\users\\suraj\\appdata\\local\\packages\\pythonsoftwarefoundation.python.3.9_qbz5n2kfra8p0\\localcache\\local-packages\\python39\\site-packages (from langchain) (2.7.1)\n",
      "Requirement already satisfied: requests<3,>=2 in c:\\users\\suraj\\appdata\\local\\packages\\pythonsoftwarefoundation.python.3.9_qbz5n2kfra8p0\\localcache\\local-packages\\python39\\site-packages (from langchain) (2.32.2)\n",
      "Requirement already satisfied: PyYAML>=5.3 in c:\\users\\suraj\\appdata\\local\\packages\\pythonsoftwarefoundation.python.3.9_qbz5n2kfra8p0\\localcache\\local-packages\\python39\\site-packages (from langchain) (6.0.1)\n",
      "Requirement already satisfied: langchain-text-splitters<0.3.0,>=0.2.0 in c:\\users\\suraj\\appdata\\local\\packages\\pythonsoftwarefoundation.python.3.9_qbz5n2kfra8p0\\localcache\\local-packages\\python39\\site-packages (from langchain) (0.2.0)\n",
      "Requirement already satisfied: async-timeout<5.0.0,>=4.0.0 in c:\\users\\suraj\\appdata\\local\\packages\\pythonsoftwarefoundation.python.3.9_qbz5n2kfra8p0\\localcache\\local-packages\\python39\\site-packages (from langchain) (4.0.3)\n",
      "Requirement already satisfied: aiohttp<4.0.0,>=3.8.3 in c:\\users\\suraj\\appdata\\local\\packages\\pythonsoftwarefoundation.python.3.9_qbz5n2kfra8p0\\localcache\\local-packages\\python39\\site-packages (from langchain) (3.9.5)\n",
      "Requirement already satisfied: SQLAlchemy<3,>=1.4 in c:\\users\\suraj\\appdata\\local\\packages\\pythonsoftwarefoundation.python.3.9_qbz5n2kfra8p0\\localcache\\local-packages\\python39\\site-packages (from langchain) (2.0.30)\n",
      "Requirement already satisfied: langsmith<0.2.0,>=0.1.17 in c:\\users\\suraj\\appdata\\local\\packages\\pythonsoftwarefoundation.python.3.9_qbz5n2kfra8p0\\localcache\\local-packages\\python39\\site-packages (from langchain) (0.1.75)\n",
      "Requirement already satisfied: regex>=2022.1.18 in c:\\users\\suraj\\appdata\\local\\packages\\pythonsoftwarefoundation.python.3.9_qbz5n2kfra8p0\\localcache\\local-packages\\python39\\site-packages (from tiktoken) (2022.1.18)\n",
      "Requirement already satisfied: openai<2.0.0,>=1.26.0 in c:\\users\\suraj\\appdata\\local\\packages\\pythonsoftwarefoundation.python.3.9_qbz5n2kfra8p0\\localcache\\local-packages\\python39\\site-packages (from langchain-openai) (1.30.1)\n",
      "Requirement already satisfied: ujson!=4.0.2,!=4.1.0,!=4.2.0,!=4.3.0,!=5.0.0,!=5.1.0,>=4.0.1 in c:\\users\\suraj\\appdata\\local\\packages\\pythonsoftwarefoundation.python.3.9_qbz5n2kfra8p0\\localcache\\local-packages\\python39\\site-packages (from fastapi) (5.10.0)\n",
      "Requirement already satisfied: httpx>=0.23.0 in c:\\users\\suraj\\appdata\\local\\packages\\pythonsoftwarefoundation.python.3.9_qbz5n2kfra8p0\\localcache\\local-packages\\python39\\site-packages (from fastapi) (0.27.0)\n",
      "Requirement already satisfied: starlette<0.38.0,>=0.37.2 in c:\\users\\suraj\\appdata\\local\\packages\\pythonsoftwarefoundation.python.3.9_qbz5n2kfra8p0\\localcache\\local-packages\\python39\\site-packages (from fastapi) (0.37.2)\n",
      "Requirement already satisfied: jinja2>=2.11.2 in c:\\users\\suraj\\appdata\\local\\packages\\pythonsoftwarefoundation.python.3.9_qbz5n2kfra8p0\\localcache\\local-packages\\python39\\site-packages (from fastapi) (3.1.4)\n",
      "Requirement already satisfied: fastapi-cli>=0.0.2 in c:\\users\\suraj\\appdata\\local\\packages\\pythonsoftwarefoundation.python.3.9_qbz5n2kfra8p0\\localcache\\local-packages\\python39\\site-packages (from fastapi) (0.0.4)\n",
      "Requirement already satisfied: python-multipart>=0.0.7 in c:\\users\\suraj\\appdata\\local\\packages\\pythonsoftwarefoundation.python.3.9_qbz5n2kfra8p0\\localcache\\local-packages\\python39\\site-packages (from fastapi) (0.0.9)\n",
      "Requirement already satisfied: typing-extensions>=4.8.0 in c:\\users\\suraj\\appdata\\local\\packages\\pythonsoftwarefoundation.python.3.9_qbz5n2kfra8p0\\localcache\\local-packages\\python39\\site-packages (from fastapi) (4.12.2)\n",
      "Requirement already satisfied: orjson>=3.2.1 in c:\\users\\suraj\\appdata\\local\\packages\\pythonsoftwarefoundation.python.3.9_qbz5n2kfra8p0\\localcache\\local-packages\\python39\\site-packages (from fastapi) (3.10.3)\n",
      "Requirement already satisfied: email_validator>=2.0.0 in c:\\users\\suraj\\appdata\\local\\packages\\pythonsoftwarefoundation.python.3.9_qbz5n2kfra8p0\\localcache\\local-packages\\python39\\site-packages (from fastapi) (2.1.1)\n",
      "Requirement already satisfied: h11>=0.8 in c:\\users\\suraj\\appdata\\local\\packages\\pythonsoftwarefoundation.python.3.9_qbz5n2kfra8p0\\localcache\\local-packages\\python39\\site-packages (from uvicorn) (0.14.0)\n",
      "Requirement already satisfied: click>=7.0 in c:\\users\\suraj\\appdata\\local\\packages\\pythonsoftwarefoundation.python.3.9_qbz5n2kfra8p0\\localcache\\local-packages\\python39\\site-packages (from uvicorn) (8.0.3)\n",
      "Requirement already satisfied: yarl<2.0,>=1.0 in c:\\users\\suraj\\appdata\\local\\packages\\pythonsoftwarefoundation.python.3.9_qbz5n2kfra8p0\\localcache\\local-packages\\python39\\site-packages (from aiohttp<4.0.0,>=3.8.3->langchain) (1.9.4)\n",
      "Requirement already satisfied: attrs>=17.3.0 in c:\\users\\suraj\\appdata\\local\\packages\\pythonsoftwarefoundation.python.3.9_qbz5n2kfra8p0\\localcache\\local-packages\\python39\\site-packages (from aiohttp<4.0.0,>=3.8.3->langchain) (23.2.0)\n",
      "Requirement already satisfied: aiosignal>=1.1.2 in c:\\users\\suraj\\appdata\\local\\packages\\pythonsoftwarefoundation.python.3.9_qbz5n2kfra8p0\\localcache\\local-packages\\python39\\site-packages (from aiohttp<4.0.0,>=3.8.3->langchain) (1.3.1)\n",
      "Requirement already satisfied: multidict<7.0,>=4.5 in c:\\users\\suraj\\appdata\\local\\packages\\pythonsoftwarefoundation.python.3.9_qbz5n2kfra8p0\\localcache\\local-packages\\python39\\site-packages (from aiohttp<4.0.0,>=3.8.3->langchain) (6.0.5)\n",
      "Requirement already satisfied: frozenlist>=1.1.1 in c:\\users\\suraj\\appdata\\local\\packages\\pythonsoftwarefoundation.python.3.9_qbz5n2kfra8p0\\localcache\\local-packages\\python39\\site-packages (from aiohttp<4.0.0,>=3.8.3->langchain) (1.4.1)\n",
      "Requirement already satisfied: colorama in c:\\users\\suraj\\appdata\\local\\packages\\pythonsoftwarefoundation.python.3.9_qbz5n2kfra8p0\\localcache\\local-packages\\python39\\site-packages (from click>=7.0->uvicorn) (0.4.4)\n",
      "Requirement already satisfied: marshmallow<4.0.0,>=3.18.0 in c:\\users\\suraj\\appdata\\local\\packages\\pythonsoftwarefoundation.python.3.9_qbz5n2kfra8p0\\localcache\\local-packages\\python39\\site-packages (from dataclasses-json<0.7,>=0.5.7->langchain) (3.21.2)\n",
      "Requirement already satisfied: typing-inspect<1,>=0.4.0 in c:\\users\\suraj\\appdata\\local\\packages\\pythonsoftwarefoundation.python.3.9_qbz5n2kfra8p0\\localcache\\local-packages\\python39\\site-packages (from dataclasses-json<0.7,>=0.5.7->langchain) (0.9.0)\n",
      "Requirement already satisfied: dnspython>=2.0.0 in c:\\users\\suraj\\appdata\\local\\packages\\pythonsoftwarefoundation.python.3.9_qbz5n2kfra8p0\\localcache\\local-packages\\python39\\site-packages (from email_validator>=2.0.0->fastapi) (2.6.1)\n",
      "Requirement already satisfied: idna>=2.0.0 in c:\\users\\suraj\\appdata\\local\\packages\\pythonsoftwarefoundation.python.3.9_qbz5n2kfra8p0\\localcache\\local-packages\\python39\\site-packages (from email_validator>=2.0.0->fastapi) (3.7)\n",
      "Requirement already satisfied: typer>=0.12.3 in c:\\users\\suraj\\appdata\\local\\packages\\pythonsoftwarefoundation.python.3.9_qbz5n2kfra8p0\\localcache\\local-packages\\python39\\site-packages (from fastapi-cli>=0.0.2->fastapi) (0.12.3)\n",
      "Requirement already satisfied: anyio in c:\\users\\suraj\\appdata\\local\\packages\\pythonsoftwarefoundation.python.3.9_qbz5n2kfra8p0\\localcache\\local-packages\\python39\\site-packages (from httpx>=0.23.0->fastapi) (4.3.0)\n",
      "Requirement already satisfied: certifi in c:\\users\\suraj\\appdata\\local\\packages\\pythonsoftwarefoundation.python.3.9_qbz5n2kfra8p0\\localcache\\local-packages\\python39\\site-packages (from httpx>=0.23.0->fastapi) (2024.2.2)\n",
      "Requirement already satisfied: sniffio in c:\\users\\suraj\\appdata\\local\\packages\\pythonsoftwarefoundation.python.3.9_qbz5n2kfra8p0\\localcache\\local-packages\\python39\\site-packages (from httpx>=0.23.0->fastapi) (1.3.1)\n",
      "Requirement already satisfied: httpcore==1.* in c:\\users\\suraj\\appdata\\local\\packages\\pythonsoftwarefoundation.python.3.9_qbz5n2kfra8p0\\localcache\\local-packages\\python39\\site-packages (from httpx>=0.23.0->fastapi) (1.0.5)\n",
      "Requirement already satisfied: MarkupSafe>=2.0 in c:\\users\\suraj\\appdata\\local\\packages\\pythonsoftwarefoundation.python.3.9_qbz5n2kfra8p0\\localcache\\local-packages\\python39\\site-packages (from jinja2>=2.11.2->fastapi) (2.1.5)\n",
      "Requirement already satisfied: jsonpatch<2.0,>=1.33 in c:\\users\\suraj\\appdata\\local\\packages\\pythonsoftwarefoundation.python.3.9_qbz5n2kfra8p0\\localcache\\local-packages\\python39\\site-packages (from langchain-core<0.3.0,>=0.2.0->langchain) (1.33)\n",
      "Requirement already satisfied: packaging<24.0,>=23.2 in c:\\users\\suraj\\appdata\\local\\packages\\pythonsoftwarefoundation.python.3.9_qbz5n2kfra8p0\\localcache\\local-packages\\python39\\site-packages (from langchain-core<0.3.0,>=0.2.0->langchain) (23.2)\n",
      "Requirement already satisfied: tqdm>4 in c:\\users\\suraj\\appdata\\local\\packages\\pythonsoftwarefoundation.python.3.9_qbz5n2kfra8p0\\localcache\\local-packages\\python39\\site-packages (from openai<2.0.0,>=1.26.0->langchain-openai) (4.66.4)\n",
      "Requirement already satisfied: distro<2,>=1.7.0 in c:\\users\\suraj\\appdata\\local\\packages\\pythonsoftwarefoundation.python.3.9_qbz5n2kfra8p0\\localcache\\local-packages\\python39\\site-packages (from openai<2.0.0,>=1.26.0->langchain-openai) (1.9.0)\n",
      "Requirement already satisfied: annotated-types>=0.4.0 in c:\\users\\suraj\\appdata\\local\\packages\\pythonsoftwarefoundation.python.3.9_qbz5n2kfra8p0\\localcache\\local-packages\\python39\\site-packages (from pydantic<3,>=1->langchain) (0.7.0)\n",
      "Requirement already satisfied: pydantic-core==2.18.2 in c:\\users\\suraj\\appdata\\local\\packages\\pythonsoftwarefoundation.python.3.9_qbz5n2kfra8p0\\localcache\\local-packages\\python39\\site-packages (from pydantic<3,>=1->langchain) (2.18.2)\n",
      "Requirement already satisfied: charset-normalizer<4,>=2 in c:\\users\\suraj\\appdata\\local\\packages\\pythonsoftwarefoundation.python.3.9_qbz5n2kfra8p0\\localcache\\local-packages\\python39\\site-packages (from requests<3,>=2->langchain) (3.3.2)\n",
      "Requirement already satisfied: urllib3<3,>=1.21.1 in c:\\users\\suraj\\appdata\\local\\packages\\pythonsoftwarefoundation.python.3.9_qbz5n2kfra8p0\\localcache\\local-packages\\python39\\site-packages (from requests<3,>=2->langchain) (2.2.1)\n",
      "Requirement already satisfied: greenlet!=0.4.17 in c:\\users\\suraj\\appdata\\local\\packages\\pythonsoftwarefoundation.python.3.9_qbz5n2kfra8p0\\localcache\\local-packages\\python39\\site-packages (from SQLAlchemy<3,>=1.4->langchain) (3.0.3)\n",
      "Requirement already satisfied: python-dotenv>=0.13 in c:\\users\\suraj\\appdata\\local\\packages\\pythonsoftwarefoundation.python.3.9_qbz5n2kfra8p0\\localcache\\local-packages\\python39\\site-packages (from uvicorn) (1.0.1)\n",
      "Requirement already satisfied: httptools>=0.5.0 in c:\\users\\suraj\\appdata\\local\\packages\\pythonsoftwarefoundation.python.3.9_qbz5n2kfra8p0\\localcache\\local-packages\\python39\\site-packages (from uvicorn) (0.6.1)\n",
      "Requirement already satisfied: watchfiles>=0.13 in c:\\users\\suraj\\appdata\\local\\packages\\pythonsoftwarefoundation.python.3.9_qbz5n2kfra8p0\\localcache\\local-packages\\python39\\site-packages (from uvicorn) (0.22.0)\n",
      "Requirement already satisfied: websockets>=10.4 in c:\\users\\suraj\\appdata\\local\\packages\\pythonsoftwarefoundation.python.3.9_qbz5n2kfra8p0\\localcache\\local-packages\\python39\\site-packages (from uvicorn) (12.0)\n",
      "Requirement already satisfied: exceptiongroup>=1.0.2 in c:\\users\\suraj\\appdata\\local\\packages\\pythonsoftwarefoundation.python.3.9_qbz5n2kfra8p0\\localcache\\local-packages\\python39\\site-packages (from anyio->httpx>=0.23.0->fastapi) (1.2.1)\n",
      "Requirement already satisfied: jsonpointer>=1.9 in c:\\users\\suraj\\appdata\\local\\packages\\pythonsoftwarefoundation.python.3.9_qbz5n2kfra8p0\\localcache\\local-packages\\python39\\site-packages (from jsonpatch<2.0,>=1.33->langchain-core<0.3.0,>=0.2.0->langchain) (2.4)\n",
      "Requirement already satisfied: shellingham>=1.3.0 in c:\\users\\suraj\\appdata\\local\\packages\\pythonsoftwarefoundation.python.3.9_qbz5n2kfra8p0\\localcache\\local-packages\\python39\\site-packages (from typer>=0.12.3->fastapi-cli>=0.0.2->fastapi) (1.5.4)\n",
      "Requirement already satisfied: rich>=10.11.0 in c:\\users\\suraj\\appdata\\local\\packages\\pythonsoftwarefoundation.python.3.9_qbz5n2kfra8p0\\localcache\\local-packages\\python39\\site-packages (from typer>=0.12.3->fastapi-cli>=0.0.2->fastapi) (13.7.1)\n",
      "Requirement already satisfied: mypy-extensions>=0.3.0 in c:\\users\\suraj\\appdata\\local\\packages\\pythonsoftwarefoundation.python.3.9_qbz5n2kfra8p0\\localcache\\local-packages\\python39\\site-packages (from typing-inspect<1,>=0.4.0->dataclasses-json<0.7,>=0.5.7->langchain) (1.0.0)\n",
      "Requirement already satisfied: markdown-it-py>=2.2.0 in c:\\users\\suraj\\appdata\\local\\packages\\pythonsoftwarefoundation.python.3.9_qbz5n2kfra8p0\\localcache\\local-packages\\python39\\site-packages (from rich>=10.11.0->typer>=0.12.3->fastapi-cli>=0.0.2->fastapi) (3.0.0)\n",
      "Requirement already satisfied: pygments<3.0.0,>=2.13.0 in c:\\users\\suraj\\appdata\\local\\packages\\pythonsoftwarefoundation.python.3.9_qbz5n2kfra8p0\\localcache\\local-packages\\python39\\site-packages (from rich>=10.11.0->typer>=0.12.3->fastapi-cli>=0.0.2->fastapi) (2.16.1)\n",
      "Requirement already satisfied: mdurl~=0.1 in c:\\users\\suraj\\appdata\\local\\packages\\pythonsoftwarefoundation.python.3.9_qbz5n2kfra8p0\\localcache\\local-packages\\python39\\site-packages (from markdown-it-py>=2.2.0->rich>=10.11.0->typer>=0.12.3->fastapi-cli>=0.0.2->fastapi) (0.1.2)\n"
     ]
    },
    {
     "name": "stderr",
     "output_type": "stream",
     "text": [
      "WARNING: You are using pip version 22.0.2; however, version 24.1 is available.\n",
      "You should consider upgrading via the 'C:\\Users\\suraj\\AppData\\Local\\Microsoft\\WindowsApps\\PythonSoftwareFoundation.Python.3.9_qbz5n2kfra8p0\\python.exe -m pip install --upgrade pip' command.\n"
     ]
    }
   ],
   "source": [
    "# !pip install langchain langchain-experimental openai tiktoken\n",
    "!pip install langchain langchain-experimental tiktoken langchain-openai tabulate langchain-community fastapi uvicorn "
   ]
  },
  {
   "cell_type": "code",
   "execution_count": 2,
   "metadata": {},
   "outputs": [
    {
     "name": "stdout",
     "output_type": "stream",
     "text": [
      "Requirement already satisfied: python-dotenv in c:\\users\\suraj\\appdata\\local\\packages\\pythonsoftwarefoundation.python.3.9_qbz5n2kfra8p0\\localcache\\local-packages\\python39\\site-packages (1.0.1)\n"
     ]
    },
    {
     "name": "stderr",
     "output_type": "stream",
     "text": [
      "WARNING: You are using pip version 22.0.2; however, version 24.1.1 is available.\n",
      "You should consider upgrading via the 'C:\\Users\\suraj\\AppData\\Local\\Microsoft\\WindowsApps\\PythonSoftwareFoundation.Python.3.9_qbz5n2kfra8p0\\python.exe -m pip install --upgrade pip' command.\n"
     ]
    }
   ],
   "source": [
    "!pip install python-dotenv\n",
    "#  chromadb"
   ]
  },
  {
   "cell_type": "code",
   "execution_count": 1,
   "metadata": {},
   "outputs": [
    {
     "name": "stderr",
     "output_type": "stream",
     "text": [
      "WARNING: You are using pip version 22.0.2; however, version 24.1.1 is available.\n",
      "You should consider upgrading via the 'C:\\Users\\suraj\\AppData\\Local\\Microsoft\\WindowsApps\\PythonSoftwareFoundation.Python.3.9_qbz5n2kfra8p0\\python.exe -m pip install --upgrade pip' command.\n"
     ]
    }
   ],
   "source": [
    "!pip install --upgrade --quiet  clickhouse-connect"
   ]
  },
  {
   "cell_type": "code",
   "execution_count": 4,
   "metadata": {},
   "outputs": [
    {
     "name": "stderr",
     "output_type": "stream",
     "text": [
      "docker: Error response from daemon: Conflict. The container name \"/langchain-clickhouse-server\" is already in use by container \"3e2f5d3bf114eb752b2bf9f1fbb88ba911a00b08ffa4d938bef2497f91835ab9\". You have to remove (or rename) that container to be able to reuse that name.\n",
      "See 'docker run --help'.\n"
     ]
    }
   ],
   "source": [
    "! docker run -d -p 8123:8123 -p9000:9000 --name langchain-clickhouse-server --ulimit nofile=262144:262144 clickhouse/clickhouse-server:23.4.2.11"
   ]
  },
  {
   "cell_type": "code",
   "execution_count": 3,
   "metadata": {},
   "outputs": [],
   "source": [
    "# import pandas as pd\n",
    "# feb = pd.read_parquet('files//tables//customers_tata_motors_mumbai_delhi_2023-02-25_2023-03-01_part-00000-63456ccb-4cc9-4361-ab34-2f71967d66b6-c000.snappy.parquet')\n",
    "# lat = pd.read_parquet('files//tables//customers_tata_motors_mumbai_delhi_part-00000-071552e5-2584-4ac8-b201-66d0821f37f0-c000.snappy.parquet')\n"
   ]
  },
  {
   "cell_type": "code",
   "execution_count": null,
   "metadata": {},
   "outputs": [],
   "source": [
    "# feb.to_csv('tata_motors_feb25_mar1.csv',index=False)\n"
   ]
  },
  {
   "cell_type": "code",
   "execution_count": null,
   "metadata": {},
   "outputs": [],
   "source": [
    "# lat.to_csv('tata_motors_mar25_mar31.csv',index=False)"
   ]
  },
  {
   "attachments": {},
   "cell_type": "markdown",
   "metadata": {},
   "source": [
    "### copy the result of following cell and paste in a query editor in mysql to edit the columns"
   ]
  },
  {
   "cell_type": "code",
   "execution_count": 6,
   "metadata": {},
   "outputs": [
    {
     "name": "stdout",
     "output_type": "stream",
     "text": [
      "ALTER TABLE `accounts` MODIFY COLUMN `id` INT(11) COMMENT 'ID is a sequentially increasing number. It can uniquely identify an event and is the PRIMARY KEY of the table. \n",
      "This is the HelpDesk Account ID';\n",
      "ALTER TABLE `accounts` MODIFY COLUMN `name` VARCHAR(255) COMMENT 'Helpdesk Account Name';\n",
      "ALTER TABLE `accounts` MODIFY COLUMN `created_at` VARCHAR(255) COMMENT 'Timestamp at which account was created';\n",
      "ALTER TABLE `accounts` MODIFY COLUMN `updated_at` VARCHAR(255) COMMENT '';\n",
      "ALTER TABLE `accounts` MODIFY COLUMN `locale` INT(11) COMMENT 'Used to identify the language of an account (Mostly \"en\")';\n",
      "ALTER TABLE `accounts` MODIFY COLUMN `domain` VARCHAR(255) COMMENT 'The account’s domain';\n",
      "ALTER TABLE `accounts` MODIFY COLUMN `support_email` VARCHAR(255) COMMENT 'Email for any support related issues ';\n",
      "ALTER TABLE `accounts` MODIFY COLUMN `settings_flags` INT(11) COMMENT 'Don't know whether it is currently in use or not (Imported from chatwoot)';\n",
      "ALTER TABLE `accounts` MODIFY COLUMN `feature_flags` INT(11) COMMENT 'Use to determine wheteher different feature like deep_shopify, ai_enabled etc are enabled or disabled';\n",
      "ALTER TABLE `accounts` MODIFY COLUMN `auto_resolve_duration` FLOAT COMMENT 'Deprecated from accounts table (Used in inboxes table)';\n",
      "ALTER TABLE `accounts` MODIFY COLUMN `concurrency_enabled` TINYINT COMMENT 'Assignment by concurrency mechanism is enabled or disabled for an account';\n",
      "ALTER TABLE `accounts` MODIFY COLUMN `concurrency_limit` INT(11) COMMENT 'Upper cap upto which tickets would be assigned to an agent via concurrency mechanism';\n",
      "ALTER TABLE `accounts` MODIFY COLUMN `username` VARCHAR(255) COMMENT 'Although these have some random string value in it. But these columns can be ignored as they are not used anywhere in codebase right now';\n",
      "ALTER TABLE `accounts` MODIFY COLUMN `password` VARCHAR(255) COMMENT 'ignore';\n",
      "ALTER TABLE `accounts` MODIFY COLUMN `hide_all_tab` TINYINT COMMENT 'Show/hide the \"All\" section from tickets section on UI';\n",
      "ALTER TABLE `accounts` MODIFY COLUMN `currency` VARCHAR(255) COMMENT 'Default Currency of the account (default INR)';\n",
      "ALTER TABLE `accounts` MODIFY COLUMN `shopify_access_token` VARCHAR(255) COMMENT 'Shopify Store Credentials';\n",
      "ALTER TABLE `accounts` MODIFY COLUMN `source` VARCHAR(255) COMMENT 'Source of the account - if its a shopify store then the value is shopify';\n",
      "ALTER TABLE `accounts` MODIFY COLUMN `preferred_billing_currency` INT(11) COMMENT '';\n",
      "ALTER TABLE `accounts` MODIFY COLUMN `shopify_store_url` VARCHAR(255) COMMENT 'If using Shopify, their store’s url';\n",
      "ALTER TABLE `accounts` MODIFY COLUMN `on_grace_period` TINYINT COMMENT 'true - grace extension of + 10 days is given for the chargebee invoice\n",
      "false - no grace extension applied';\n",
      "ALTER TABLE `accounts` MODIFY COLUMN `shopify_deleted` TINYINT COMMENT 'This is True when an account has churned and have deleted shopify';\n",
      "ALTER TABLE `accounts` MODIFY COLUMN `shopify_app_reinstalled` TINYINT COMMENT 'True if they have deleted the shopify app before and have reinstalled it';\n",
      "ALTER TABLE `accounts` MODIFY COLUMN `shopify_country_name` VARCHAR(255) COMMENT 'Default Country name of their Shopify store (where the billing occurs from)';\n",
      "ALTER TABLE `accounts` MODIFY COLUMN `shopify_country_code` VARCHAR(255) COMMENT 'Country Code of the Country name saved';\n",
      "ALTER TABLE `accounts` MODIFY COLUMN `billing_email` VARCHAR(255) COMMENT 'Email through which the invoices and all the billing is done';\n",
      "ALTER TABLE `accounts` MODIFY COLUMN `hide_queued_tab` TINYINT COMMENT 'Show/hide the \"Queued\" section from tickets section on UI';\n",
      "ALTER TABLE `accounts` MODIFY COLUMN `payment_pending` TINYINT COMMENT 'true  -  there are pending invoices present on chargebee. This occurs when any of the invoices are in the not_paid state.\n",
      "false  - there are no pending invoices on chargebee. All invoices are either in the payment_pending or not_paid state\n",
      "Invoice status moves from payment_pending to not_paid after a 15 day dunning period once the invoice has been raised';\n",
      "ALTER TABLE `accounts` MODIFY COLUMN `on_shopify_custom_plan` TINYINT COMMENT 'When \"true\", account is on a custom plan of shopify';\n",
      "ALTER TABLE `accounts` MODIFY COLUMN `hide_bot_conversations` TINYINT COMMENT 'Show/hide the \"Bot\" section from tickets section on UI';\n",
      "ALTER TABLE `accounts` MODIFY COLUMN `is_enterprise` TINYINT COMMENT 'true - system won’t get blocked for overdue payments \n",
      "false - system will get blocked for overdue payments';\n",
      "ALTER TABLE `accounts` MODIFY COLUMN `website_url` FLOAT COMMENT 'Url of their website';\n",
      "ALTER TABLE `accounts` MODIFY COLUMN `enforce_tagging` TINYINT COMMENT 'When \"true\" agent has to assign a tag to a conversation before resolving it';\n",
      "ALTER TABLE `accounts` MODIFY COLUMN `grace_extension` TINYINT COMMENT 'When \"true\", this account is on a grace period as his current subscription has expired';\n",
      "ALTER TABLE `accounts` MODIFY COLUMN `ums_enabled` TINYINT COMMENT 'UMS is the universal messaging service.';\n",
      "ALTER TABLE `accounts` MODIFY COLUMN `deleted_at` VARCHAR(255) COMMENT 'If this column has some value, that means they have deleted their shopify account. And are no longer using limechat. (basically churned clients)';\n"
     ]
    }
   ],
   "source": [
    "import csv\n",
    "import pandas as pd\n",
    "import  sys\n",
    "# Open the CSV file\n",
    "table = \"accounts\"\n",
    "with open(f'files\\d_{table}.csv', mode='r') as csv_file:\n",
    "    df = csv.DictReader(csv_file)\n",
    "\n",
    "    # Define your mapping dictionary\n",
    "    mapping_dict = {'integer': 'INT(11)','float': 'FLOAT', 'string': 'VARCHAR(255)', 'timestamp': 'TIMESTAMP', 'json': 'JSON','boolean': 'TINYINT','': ''}\n",
    "\n",
    "    # Use the map function to create a new column\n",
    "    \n",
    "\n",
    "    # Loop through each row in the CSV\n",
    "    for row in df:\n",
    "        column_name = row['column']\n",
    "        description = row['description']\n",
    "        row['d_type']=mapping_dict[row['data_type']]\n",
    "        d_type = row['d_type']\n",
    "        \n",
    "        # Generate the SQL statement to update the column description\n",
    "        sql_statement = f\"ALTER TABLE `{table}` MODIFY COLUMN `{column_name}` {d_type} COMMENT '{description}';\"\n",
    "        \n",
    "        # Execute the SQL statement or print it for further use\n",
    "        print(sql_statement)\n",
    "\n",
    "# sql_statement"
   ]
  },
  {
   "cell_type": "code",
   "execution_count": null,
   "metadata": {},
   "outputs": [],
   "source": [
    "mapping_dict = {'integer': 'INT(11)', 'string': 'VARCHAR(255)', 'timestamp': 'TIMESTAMP', 'json': 'JSON'}\n",
    "with open('files\\d_contacts.csv', mode='r') as csv_file:\n",
    "    df = csv.DictReader(csv_file)\n",
    "    for row in df:\n",
    "        print(row['data_type'])\n",
    "        row['d_type']=mapping_dict[row['data_type']]\n",
    "        print(row['d_type'])"
   ]
  },
  {
   "cell_type": "code",
   "execution_count": null,
   "metadata": {},
   "outputs": [],
   "source": []
  }
 ],
 "metadata": {
  "kernelspec": {
   "display_name": "Python 3",
   "language": "python",
   "name": "python3"
  },
  "language_info": {
   "codemirror_mode": {
    "name": "ipython",
    "version": 3
   },
   "file_extension": ".py",
   "mimetype": "text/x-python",
   "name": "python",
   "nbconvert_exporter": "python",
   "pygments_lexer": "ipython3",
   "version": "3.9.13"
  },
  "orig_nbformat": 4
 },
 "nbformat": 4,
 "nbformat_minor": 2
}
